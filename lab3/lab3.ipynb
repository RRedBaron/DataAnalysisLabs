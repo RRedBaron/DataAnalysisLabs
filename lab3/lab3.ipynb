{
 "cells": [
  {
   "cell_type": "code",
   "execution_count": null,
   "id": "0b1dbc32",
   "metadata": {},
   "outputs": [],
   "source": [
    "import pandas as pd\n",
    "import seaborn as sns\n",
    "import numpy as np\n",
    "import matplotlib.pyplot as plt\n",
    "%matplotlib inline"
   ]
  },
  {
   "cell_type": "code",
   "execution_count": null,
   "id": "26b5d8e9",
   "metadata": {},
   "outputs": [],
   "source": [
    "df = pd.read_csv(\"Data2.csv\", delimiter=';', decimal=',').rename(columns={'Populatiion':'Population'})"
   ]
  },
  {
   "cell_type": "code",
   "execution_count": null,
   "id": "af2f885b",
   "metadata": {
    "scrolled": true
   },
   "outputs": [],
   "source": [
    "df.head()"
   ]
  },
  {
   "cell_type": "code",
   "execution_count": null,
   "id": "9b57eb23",
   "metadata": {},
   "outputs": [],
   "source": [
    "df.tail()"
   ]
  },
  {
   "cell_type": "code",
   "execution_count": null,
   "id": "b183136f",
   "metadata": {
    "scrolled": false
   },
   "outputs": [],
   "source": [
    "num_cols = df.select_dtypes(include=np.number)\n",
    "num_cols.fillna(num_cols.mean(), inplace=True)\n",
    "df = pd.concat([df.select_dtypes(exclude=np.number), num_cols], axis=1)\n",
    "df"
   ]
  },
  {
   "cell_type": "code",
   "execution_count": null,
   "id": "a4ec6bcd",
   "metadata": {},
   "outputs": [],
   "source": [
    "df.Area = df.Area.abs()\n",
    "df['GDP per capita'] = df['GDP per capita'].abs()"
   ]
  },
  {
   "cell_type": "code",
   "execution_count": null,
   "id": "b8275f9f",
   "metadata": {},
   "outputs": [],
   "source": [
    "fig, axes = plt.subplots(2,2,figsize=(13.5,8.5))\n",
    "fig.subplots_adjust(hspace=0.27, wspace=0.125)\n",
    "sns.set(style='darkgrid')\n",
    "\n",
    "sns.boxplot(ax=axes[0,0], data=df['GDP per capita'], width=0.3, notch=True)\n",
    "axes[0,0].set_title('ВВП на душу населення')\n",
    "\n",
    "sns.boxplot(ax=axes[0,1], data=df.Population, width=0.3)\n",
    "axes[0,1].set_title('Кількість населення по країнах')\n",
    "\n",
    "sns.boxplot(ax=axes[1,0], data=df['CO2 emission'], width=0.3, notch=True)\n",
    "axes[1,0].set_title('Концентрація чадного газу в країнах')\n",
    "\n",
    "sns.boxplot(ax=axes[1,1], data=df.Area, width=0.3, notch=True)\n",
    "axes[1,1].set_title('Площи країн')"
   ]
  },
  {
   "cell_type": "code",
   "execution_count": null,
   "id": "71faec8c",
   "metadata": {},
   "outputs": [],
   "source": [
    "fig, axes = plt.subplots(2,2,figsize=(13.5,8.5))\n",
    "fig.subplots_adjust(hspace=0.27, wspace=0.125)\n",
    "\n",
    "sns.histplot(ax=axes[0,0], data=df.Population)\n",
    "axes[0,0].set_title('Кількість населення по країнах')\n",
    "\n",
    "sns.histplot(ax=axes[0,1], data=df.Area)\n",
    "axes[0,1].set_title('Площи країн')\n",
    "\n",
    "sns.histplot(ax=axes[1,0], data=df['GDP per capita'])\n",
    "axes[1,0].set_title('ВВП на душу населення')\n",
    "\n",
    "sns.histplot(ax=axes[1,1], data=df['CO2 emission'])\n",
    "axes[1,1].set_title('Концентрація чадного газу в країнах')"
   ]
  },
  {
   "cell_type": "code",
   "execution_count": null,
   "id": "31ae8696",
   "metadata": {},
   "outputs": [],
   "source": [
    "df['Population Density'] = df.Population / df.Area\n",
    "df"
   ]
  },
  {
   "cell_type": "code",
   "execution_count": null,
   "id": "ca2a86e1",
   "metadata": {},
   "outputs": [],
   "source": [
    "print(f\"{df.iloc[df.Area.idxmin()]['Country Name']} - країна, яка займає найменшу площу, а саме {df.iloc[df.Area.idxmin()]['Area']} кв км\")"
   ]
  },
  {
   "cell_type": "code",
   "execution_count": null,
   "id": "f711f796",
   "metadata": {},
   "outputs": [],
   "source": [
    "print(f\"{df.iloc[df['GDP per capita'].idxmax()]['Country Name']} - країна, яка найбільший ВВП на душу населення, а саме {df.iloc[df['GDP per capita'].idxmax()]['GDP per capita']}$\")"
   ]
  },
  {
   "cell_type": "code",
   "execution_count": null,
   "id": "cdfb0c60",
   "metadata": {},
   "outputs": [],
   "source": [
    "mean_area_by_region = df.groupby('Region').Area.mean()\n",
    "largest_mean_area, region_with_largest_mean = mean_area_by_region.max(), mean_area_by_region.idxmax()\n",
    "print(f'Середня площа країни найбільша в регіоні {region_with_largest_mean}, а саме - {largest_mean_area:.2f} кв. км.')"
   ]
  },
  {
   "cell_type": "code",
   "execution_count": null,
   "id": "b6573d5f",
   "metadata": {},
   "outputs": [],
   "source": [
    "country_with_highest_density = df.loc[df['Population Density'].idxmax(), 'Country Name']\n",
    "print(f\"Країна з найбільшої щільністю населення у світі - {country_with_highest_density}\")"
   ]
  },
  {
   "cell_type": "code",
   "execution_count": null,
   "id": "d1b16c85",
   "metadata": {},
   "outputs": [],
   "source": [
    "df_euca = df[df.Region == 'Europe & Central Asia']\n",
    "country = df_euca.loc[df_euca['Population Density'].idxmax(), 'Country Name']\n",
    "print(f'Країна з найбільшої щільністю населення в регіоні Europe & Central Asia - {country}')"
   ]
  },
  {
   "cell_type": "code",
   "execution_count": null,
   "id": "db7db941",
   "metadata": {},
   "outputs": [],
   "source": [
    "df['Total GDP'] = df.Population * df['GDP per capita']\n",
    "grouped_df = df.groupby('Region')['Total GDP'].agg(['mean', 'median'])\n",
    "\n",
    "# проверка, есть ли регион, в котором среднее значение равно медиане\n",
    "equal_mean_median = []\n",
    "for region, row in grouped_df.iterrows():\n",
    "    mean = row['mean']\n",
    "    median = row['median']\n",
    "    print(f\"=={region}==\\n Середнє: {mean:.2f}$, медіана: {median:.2f}$\\n\")\n",
    "    if mean == median:\n",
    "        equal_mean_median.append(region)\n",
    "\n",
    "if len(equal_mean_median) > 0:\n",
    "    print('Регіони, в яких середнє значення ввп дорівнює медіані: ')\n",
    "    print(equal_mean_median)\n",
    "else:\n",
    "    print('Немає регіонів, в яких середнє значення ввп дорівнює медіані!')"
   ]
  },
  {
   "cell_type": "code",
   "execution_count": null,
   "id": "1c3184fe",
   "metadata": {},
   "outputs": [],
   "source": [
    "df['CO2 emission per capita'] = df['CO2 emission'] / df['Population']\n",
    "df_sorted = df.sort_values(['GDP per capita'], ascending=False)\n",
    "print('Top 5 countries by GDP per capita:\\n', df_sorted.head()[['Country Name', 'GDP per capita']],\n",
    "     '\\n\\nThe last 5 countries by GDP per capita:\\n', df_sorted.tail()[['Country Name', 'GDP per capita']])"
   ]
  },
  {
   "cell_type": "code",
   "execution_count": null,
   "id": "b3a2a97c",
   "metadata": {},
   "outputs": [],
   "source": [
    "df_sorted = df.sort_values(['CO2 emission per capita'], ascending=False)\n",
    "print('Top 5 countries by СО2 emission per capita:\\n', df_sorted.head()[['Country Name', 'CO2 emission per capita']],\n",
    "     '\\n\\nThe last 5 countries by СО2 emission per capita:\\n', df_sorted.tail()[['Country Name', 'CO2 emission per capita']])"
   ]
  }
 ],
 "metadata": {
  "kernelspec": {
   "display_name": "Python 3 (ipykernel)",
   "language": "python",
   "name": "python3"
  },
  "language_info": {
   "codemirror_mode": {
    "name": "ipython",
    "version": 3
   },
   "file_extension": ".py",
   "mimetype": "text/x-python",
   "name": "python",
   "nbconvert_exporter": "python",
   "pygments_lexer": "ipython3",
   "version": "3.9.13"
  }
 },
 "nbformat": 4,
 "nbformat_minor": 5
}
