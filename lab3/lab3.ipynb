{
 "cells": [
  {
   "cell_type": "code",
   "execution_count": 1,
   "id": "0b1dbc32",
   "metadata": {},
   "outputs": [],
   "source": [
    "\n",
    "import pandas as pd\n",
    "import seaborn as sns\n",
    "import numpy as np\n",
    "import matplotlib.pyplot as plt\n",
    "%matplotlib inline"
   ]
  },
  {
   "cell_type": "code",
   "execution_count": 2,
   "id": "26b5d8e9",
   "metadata": {},
   "outputs": [],
   "source": [
    "df = pd.read_csv(\"Data2.csv\", delimiter=';', decimal=',').rename(columns={'Populatiion':'Population'})"
   ]
  },
  {
   "cell_type": "code",
   "execution_count": 3,
   "id": "af2f885b",
   "metadata": {
    "scrolled": true
   },
   "outputs": [
    {
     "data": {
      "text/html": [
       "<div>\n",
       "<style scoped>\n",
       "    .dataframe tbody tr th:only-of-type {\n",
       "        vertical-align: middle;\n",
       "    }\n",
       "\n",
       "    .dataframe tbody tr th {\n",
       "        vertical-align: top;\n",
       "    }\n",
       "\n",
       "    .dataframe thead th {\n",
       "        text-align: right;\n",
       "    }\n",
       "</style>\n",
       "<table border=\"1\" class=\"dataframe\">\n",
       "  <thead>\n",
       "    <tr style=\"text-align: right;\">\n",
       "      <th></th>\n",
       "      <th>Country Name</th>\n",
       "      <th>Region</th>\n",
       "      <th>GDP per capita</th>\n",
       "      <th>Population</th>\n",
       "      <th>CO2 emission</th>\n",
       "      <th>Area</th>\n",
       "    </tr>\n",
       "  </thead>\n",
       "  <tbody>\n",
       "    <tr>\n",
       "      <th>0</th>\n",
       "      <td>Afghanistan</td>\n",
       "      <td>South Asia</td>\n",
       "      <td>561.778746</td>\n",
       "      <td>34656032.0</td>\n",
       "      <td>9809.225</td>\n",
       "      <td>652860.0</td>\n",
       "    </tr>\n",
       "    <tr>\n",
       "      <th>1</th>\n",
       "      <td>Albania</td>\n",
       "      <td>Europe &amp; Central Asia</td>\n",
       "      <td>4124.982390</td>\n",
       "      <td>2876101.0</td>\n",
       "      <td>5716.853</td>\n",
       "      <td>28750.0</td>\n",
       "    </tr>\n",
       "    <tr>\n",
       "      <th>2</th>\n",
       "      <td>Algeria</td>\n",
       "      <td>Middle East &amp; North Africa</td>\n",
       "      <td>3916.881571</td>\n",
       "      <td>40606052.0</td>\n",
       "      <td>145400.217</td>\n",
       "      <td>2381740.0</td>\n",
       "    </tr>\n",
       "    <tr>\n",
       "      <th>3</th>\n",
       "      <td>American Samoa</td>\n",
       "      <td>East Asia &amp; Pacific</td>\n",
       "      <td>11834.745230</td>\n",
       "      <td>55599.0</td>\n",
       "      <td>NaN</td>\n",
       "      <td>200.0</td>\n",
       "    </tr>\n",
       "    <tr>\n",
       "      <th>4</th>\n",
       "      <td>Andorra</td>\n",
       "      <td>Europe &amp; Central Asia</td>\n",
       "      <td>36988.622030</td>\n",
       "      <td>77281.0</td>\n",
       "      <td>462.042</td>\n",
       "      <td>470.0</td>\n",
       "    </tr>\n",
       "  </tbody>\n",
       "</table>\n",
       "</div>"
      ],
      "text/plain": [
       "     Country Name                      Region  GDP per capita  Population  \\\n",
       "0     Afghanistan                  South Asia      561.778746  34656032.0   \n",
       "1         Albania       Europe & Central Asia     4124.982390   2876101.0   \n",
       "2         Algeria  Middle East & North Africa     3916.881571  40606052.0   \n",
       "3  American Samoa         East Asia & Pacific    11834.745230     55599.0   \n",
       "4         Andorra       Europe & Central Asia    36988.622030     77281.0   \n",
       "\n",
       "   CO2 emission       Area  \n",
       "0      9809.225   652860.0  \n",
       "1      5716.853    28750.0  \n",
       "2    145400.217  2381740.0  \n",
       "3           NaN      200.0  \n",
       "4       462.042      470.0  "
      ]
     },
     "execution_count": 3,
     "metadata": {},
     "output_type": "execute_result"
    }
   ],
   "source": [
    "df.head()\n"
   ]
  },
  {
   "cell_type": "code",
   "execution_count": 4,
   "id": "9b57eb23",
   "metadata": {},
   "outputs": [
    {
     "data": {
      "text/html": [
       "<div>\n",
       "<style scoped>\n",
       "    .dataframe tbody tr th:only-of-type {\n",
       "        vertical-align: middle;\n",
       "    }\n",
       "\n",
       "    .dataframe tbody tr th {\n",
       "        vertical-align: top;\n",
       "    }\n",
       "\n",
       "    .dataframe thead th {\n",
       "        text-align: right;\n",
       "    }\n",
       "</style>\n",
       "<table border=\"1\" class=\"dataframe\">\n",
       "  <thead>\n",
       "    <tr style=\"text-align: right;\">\n",
       "      <th></th>\n",
       "      <th>Country Name</th>\n",
       "      <th>Region</th>\n",
       "      <th>GDP per capita</th>\n",
       "      <th>Population</th>\n",
       "      <th>CO2 emission</th>\n",
       "      <th>Area</th>\n",
       "    </tr>\n",
       "  </thead>\n",
       "  <tbody>\n",
       "    <tr>\n",
       "      <th>212</th>\n",
       "      <td>Virgin Islands (U.S.)</td>\n",
       "      <td>Latin America &amp; Caribbean</td>\n",
       "      <td>NaN</td>\n",
       "      <td>102951.0</td>\n",
       "      <td>NaN</td>\n",
       "      <td>350.0</td>\n",
       "    </tr>\n",
       "    <tr>\n",
       "      <th>213</th>\n",
       "      <td>West Bank and Gaza</td>\n",
       "      <td>Middle East &amp; North Africa</td>\n",
       "      <td>2943.404534</td>\n",
       "      <td>4551566.0</td>\n",
       "      <td>NaN</td>\n",
       "      <td>6020.0</td>\n",
       "    </tr>\n",
       "    <tr>\n",
       "      <th>214</th>\n",
       "      <td>Yemen, Rep.</td>\n",
       "      <td>Middle East &amp; North Africa</td>\n",
       "      <td>990.334774</td>\n",
       "      <td>27584213.0</td>\n",
       "      <td>22698.730</td>\n",
       "      <td>527970.0</td>\n",
       "    </tr>\n",
       "    <tr>\n",
       "      <th>215</th>\n",
       "      <td>Zambia</td>\n",
       "      <td>Sub-Saharan Africa</td>\n",
       "      <td>1269.573537</td>\n",
       "      <td>16591390.0</td>\n",
       "      <td>4503.076</td>\n",
       "      <td>752610.0</td>\n",
       "    </tr>\n",
       "    <tr>\n",
       "      <th>216</th>\n",
       "      <td>Zimbabwe</td>\n",
       "      <td>Sub-Saharan Africa</td>\n",
       "      <td>1029.076649</td>\n",
       "      <td>16150362.0</td>\n",
       "      <td>12020.426</td>\n",
       "      <td>390760.0</td>\n",
       "    </tr>\n",
       "  </tbody>\n",
       "</table>\n",
       "</div>"
      ],
      "text/plain": [
       "              Country Name                      Region  GDP per capita  \\\n",
       "212  Virgin Islands (U.S.)   Latin America & Caribbean             NaN   \n",
       "213     West Bank and Gaza  Middle East & North Africa     2943.404534   \n",
       "214            Yemen, Rep.  Middle East & North Africa      990.334774   \n",
       "215                 Zambia          Sub-Saharan Africa     1269.573537   \n",
       "216               Zimbabwe          Sub-Saharan Africa     1029.076649   \n",
       "\n",
       "     Population  CO2 emission      Area  \n",
       "212    102951.0           NaN     350.0  \n",
       "213   4551566.0           NaN    6020.0  \n",
       "214  27584213.0     22698.730  527970.0  \n",
       "215  16591390.0      4503.076  752610.0  \n",
       "216  16150362.0     12020.426  390760.0  "
      ]
     },
     "execution_count": 4,
     "metadata": {},
     "output_type": "execute_result"
    }
   ],
   "source": [
    "df.tail()"
   ]
  },
  {
   "cell_type": "code",
   "execution_count": 5,
   "id": "b183136f",
   "metadata": {
    "scrolled": false
   },
   "outputs": [
    {
     "data": {
      "text/html": [
       "<div>\n",
       "<style scoped>\n",
       "    .dataframe tbody tr th:only-of-type {\n",
       "        vertical-align: middle;\n",
       "    }\n",
       "\n",
       "    .dataframe tbody tr th {\n",
       "        vertical-align: top;\n",
       "    }\n",
       "\n",
       "    .dataframe thead th {\n",
       "        text-align: right;\n",
       "    }\n",
       "</style>\n",
       "<table border=\"1\" class=\"dataframe\">\n",
       "  <thead>\n",
       "    <tr style=\"text-align: right;\">\n",
       "      <th></th>\n",
       "      <th>Country Name</th>\n",
       "      <th>Region</th>\n",
       "      <th>GDP per capita</th>\n",
       "      <th>Population</th>\n",
       "      <th>CO2 emission</th>\n",
       "      <th>Area</th>\n",
       "    </tr>\n",
       "  </thead>\n",
       "  <tbody>\n",
       "    <tr>\n",
       "      <th>0</th>\n",
       "      <td>Afghanistan</td>\n",
       "      <td>South Asia</td>\n",
       "      <td>561.778746</td>\n",
       "      <td>34656032.0</td>\n",
       "      <td>9809.225000</td>\n",
       "      <td>652860.0</td>\n",
       "    </tr>\n",
       "    <tr>\n",
       "      <th>1</th>\n",
       "      <td>Albania</td>\n",
       "      <td>Europe &amp; Central Asia</td>\n",
       "      <td>4124.982390</td>\n",
       "      <td>2876101.0</td>\n",
       "      <td>5716.853000</td>\n",
       "      <td>28750.0</td>\n",
       "    </tr>\n",
       "    <tr>\n",
       "      <th>2</th>\n",
       "      <td>Algeria</td>\n",
       "      <td>Middle East &amp; North Africa</td>\n",
       "      <td>3916.881571</td>\n",
       "      <td>40606052.0</td>\n",
       "      <td>145400.217000</td>\n",
       "      <td>2381740.0</td>\n",
       "    </tr>\n",
       "    <tr>\n",
       "      <th>3</th>\n",
       "      <td>American Samoa</td>\n",
       "      <td>East Asia &amp; Pacific</td>\n",
       "      <td>11834.745230</td>\n",
       "      <td>55599.0</td>\n",
       "      <td>165114.116337</td>\n",
       "      <td>200.0</td>\n",
       "    </tr>\n",
       "    <tr>\n",
       "      <th>4</th>\n",
       "      <td>Andorra</td>\n",
       "      <td>Europe &amp; Central Asia</td>\n",
       "      <td>36988.622030</td>\n",
       "      <td>77281.0</td>\n",
       "      <td>462.042000</td>\n",
       "      <td>470.0</td>\n",
       "    </tr>\n",
       "    <tr>\n",
       "      <th>...</th>\n",
       "      <td>...</td>\n",
       "      <td>...</td>\n",
       "      <td>...</td>\n",
       "      <td>...</td>\n",
       "      <td>...</td>\n",
       "      <td>...</td>\n",
       "    </tr>\n",
       "    <tr>\n",
       "      <th>212</th>\n",
       "      <td>Virgin Islands (U.S.)</td>\n",
       "      <td>Latin America &amp; Caribbean</td>\n",
       "      <td>13374.833168</td>\n",
       "      <td>102951.0</td>\n",
       "      <td>165114.116337</td>\n",
       "      <td>350.0</td>\n",
       "    </tr>\n",
       "    <tr>\n",
       "      <th>213</th>\n",
       "      <td>West Bank and Gaza</td>\n",
       "      <td>Middle East &amp; North Africa</td>\n",
       "      <td>2943.404534</td>\n",
       "      <td>4551566.0</td>\n",
       "      <td>165114.116337</td>\n",
       "      <td>6020.0</td>\n",
       "    </tr>\n",
       "    <tr>\n",
       "      <th>214</th>\n",
       "      <td>Yemen, Rep.</td>\n",
       "      <td>Middle East &amp; North Africa</td>\n",
       "      <td>990.334774</td>\n",
       "      <td>27584213.0</td>\n",
       "      <td>22698.730000</td>\n",
       "      <td>527970.0</td>\n",
       "    </tr>\n",
       "    <tr>\n",
       "      <th>215</th>\n",
       "      <td>Zambia</td>\n",
       "      <td>Sub-Saharan Africa</td>\n",
       "      <td>1269.573537</td>\n",
       "      <td>16591390.0</td>\n",
       "      <td>4503.076000</td>\n",
       "      <td>752610.0</td>\n",
       "    </tr>\n",
       "    <tr>\n",
       "      <th>216</th>\n",
       "      <td>Zimbabwe</td>\n",
       "      <td>Sub-Saharan Africa</td>\n",
       "      <td>1029.076649</td>\n",
       "      <td>16150362.0</td>\n",
       "      <td>12020.426000</td>\n",
       "      <td>390760.0</td>\n",
       "    </tr>\n",
       "  </tbody>\n",
       "</table>\n",
       "<p>217 rows × 6 columns</p>\n",
       "</div>"
      ],
      "text/plain": [
       "              Country Name                      Region  GDP per capita  \\\n",
       "0              Afghanistan                  South Asia      561.778746   \n",
       "1                  Albania       Europe & Central Asia     4124.982390   \n",
       "2                  Algeria  Middle East & North Africa     3916.881571   \n",
       "3           American Samoa         East Asia & Pacific    11834.745230   \n",
       "4                  Andorra       Europe & Central Asia    36988.622030   \n",
       "..                     ...                         ...             ...   \n",
       "212  Virgin Islands (U.S.)   Latin America & Caribbean    13374.833168   \n",
       "213     West Bank and Gaza  Middle East & North Africa     2943.404534   \n",
       "214            Yemen, Rep.  Middle East & North Africa      990.334774   \n",
       "215                 Zambia          Sub-Saharan Africa     1269.573537   \n",
       "216               Zimbabwe          Sub-Saharan Africa     1029.076649   \n",
       "\n",
       "     Population   CO2 emission       Area  \n",
       "0    34656032.0    9809.225000   652860.0  \n",
       "1     2876101.0    5716.853000    28750.0  \n",
       "2    40606052.0  145400.217000  2381740.0  \n",
       "3       55599.0  165114.116337      200.0  \n",
       "4       77281.0     462.042000      470.0  \n",
       "..          ...            ...        ...  \n",
       "212    102951.0  165114.116337      350.0  \n",
       "213   4551566.0  165114.116337     6020.0  \n",
       "214  27584213.0   22698.730000   527970.0  \n",
       "215  16591390.0    4503.076000   752610.0  \n",
       "216  16150362.0   12020.426000   390760.0  \n",
       "\n",
       "[217 rows x 6 columns]"
      ]
     },
     "execution_count": 5,
     "metadata": {},
     "output_type": "execute_result"
    }
   ],
   "source": [
    "num_cols = df.select_dtypes(include=np.number)\n",
    "num_cols.fillna(num_cols.mean(), inplace=True)\n",
    "df = pd.concat([df.select_dtypes(exclude=np.number), num_cols], axis=1)\n",
    "df"
   ]
  },
  {
   "cell_type": "code",
   "execution_count": 6,
   "id": "a4ec6bcd",
   "metadata": {},
   "outputs": [],
   "source": [
    "df.Area = df.Area.abs()\n",
    "df['GDP per capita'] = df['GDP per capita'].abs()"
   ]
  },
  {
   "cell_type": "code",
   "execution_count": 7,
   "id": "b8275f9f",
   "metadata": {},
   "outputs": [
    {
     "data": {
      "text/plain": [
       "Text(0.5, 1.0, 'Площи країн')"
      ]
     },
     "execution_count": 7,
     "metadata": {},
     "output_type": "execute_result"
    },
    {
     "data": {
      "image/png": "[encoded data removed]",
      "text/plain": [
       "<Figure size 1350x850 with 4 Axes>"
      ]
     },
     "metadata": {},
     "output_type": "display_data"
    }
   ],
   "source": [
    "fig, axes = plt.subplots(2,2,figsize=(13.5,8.5))\n",
    "fig.subplots_adjust(hspace=0.27, wspace=0.125)\n",
    "sns.set(style='darkgrid')\n",
    "\n",
    "sns.boxplot(ax=axes[0,0], data=df['GDP per capita'], width=0.3, notch=True)\n",
    "axes[0,0].set_title('ВВП на душу населення')\n",
    "\n",
    "sns.boxplot(ax=axes[0,1], data=df.Population, width=0.3)\n",
    "axes[0,1].set_title('Кількість населення по країнах')\n",
    "\n",
    "sns.boxplot(ax=axes[1,0], data=df['CO2 emission'], width=0.3, notch=True)\n",
    "axes[1,0].set_title('Концентрація чадного газу в країнах')\n",
    "\n",
    "sns.boxplot(ax=axes[1,1], data=df.Area, width=0.3, notch=True)\n",
    "axes[1,1].set_title('Площи країн')"
   ]
  },
  {
   "cell_type": "code",
   "execution_count": 8,
   "id": "71faec8c",
   "metadata": {},
   "outputs": [
    {
     "data": {
      "text/plain": [
       "Text(0.5, 1.0, 'Концентрація чадного газу в країнах')"
      ]
     },
     "execution_count": 8,
     "metadata": {},
     "output_type": "execute_result"
    },
    {
     "data": {
      "image/png": "[encoded data removed]",
      "text/plain": [
       "<Figure size 1350x850 with 4 Axes>"
      ]
     },
     "metadata": {},
     "output_type": "display_data"
    }
   ],
   "source": [
    "fig, axes = plt.subplots(2,2,figsize=(13.5,8.5))\n",
    "fig.subplots_adjust(hspace=0.27, wspace=0.125)\n",
    "\n",
    "sns.histplot(ax=axes[0,0], data=df.Population)\n",
    "axes[0,0].set_title('Кількість населення по країнах')\n",
    "\n",
    "sns.histplot(ax=axes[0,1], data=df.Area)\n",
    "axes[0,1].set_title('Площи країн')\n",
    "\n",
    "sns.histplot(ax=axes[1,0], data=df['GDP per capita'])\n",
    "axes[1,0].set_title('ВВП на душу населення')\n",
    "\n",
    "sns.histplot(ax=axes[1,1], data=df['CO2 emission'])\n",
    "axes[1,1].set_title('Концентрація чадного газу в країнах')"
   ]
  },
  {
   "cell_type": "code",
   "execution_count": 9,
   "id": "31ae8696",
   "metadata": {},
   "outputs": [
    {
     "data": {
      "text/html": [
       "<div>\n",
       "<style scoped>\n",
       "    .dataframe tbody tr th:only-of-type {\n",
       "        vertical-align: middle;\n",
       "    }\n",
       "\n",
       "    .dataframe tbody tr th {\n",
       "        vertical-align: top;\n",
       "    }\n",
       "\n",
       "    .dataframe thead th {\n",
       "        text-align: right;\n",
       "    }\n",
       "</style>\n",
       "<table border=\"1\" class=\"dataframe\">\n",
       "  <thead>\n",
       "    <tr style=\"text-align: right;\">\n",
       "      <th></th>\n",
       "      <th>Country Name</th>\n",
       "      <th>Region</th>\n",
       "      <th>GDP per capita</th>\n",
       "      <th>Population</th>\n",
       "      <th>CO2 emission</th>\n",
       "      <th>Area</th>\n",
       "      <th>Population Density</th>\n",
       "    </tr>\n",
       "  </thead>\n",
       "  <tbody>\n",
       "    <tr>\n",
       "      <th>0</th>\n",
       "      <td>Afghanistan</td>\n",
       "      <td>South Asia</td>\n",
       "      <td>561.778746</td>\n",
       "      <td>34656032.0</td>\n",
       "      <td>9809.225000</td>\n",
       "      <td>652860.0</td>\n",
       "      <td>53.083405</td>\n",
       "    </tr>\n",
       "    <tr>\n",
       "      <th>1</th>\n",
       "      <td>Albania</td>\n",
       "      <td>Europe &amp; Central Asia</td>\n",
       "      <td>4124.982390</td>\n",
       "      <td>2876101.0</td>\n",
       "      <td>5716.853000</td>\n",
       "      <td>28750.0</td>\n",
       "      <td>100.038296</td>\n",
       "    </tr>\n",
       "    <tr>\n",
       "      <th>2</th>\n",
       "      <td>Algeria</td>\n",
       "      <td>Middle East &amp; North Africa</td>\n",
       "      <td>3916.881571</td>\n",
       "      <td>40606052.0</td>\n",
       "      <td>145400.217000</td>\n",
       "      <td>2381740.0</td>\n",
       "      <td>17.048902</td>\n",
       "    </tr>\n",
       "    <tr>\n",
       "      <th>3</th>\n",
       "      <td>American Samoa</td>\n",
       "      <td>East Asia &amp; Pacific</td>\n",
       "      <td>11834.745230</td>\n",
       "      <td>55599.0</td>\n",
       "      <td>165114.116337</td>\n",
       "      <td>200.0</td>\n",
       "      <td>277.995000</td>\n",
       "    </tr>\n",
       "    <tr>\n",
       "      <th>4</th>\n",
       "      <td>Andorra</td>\n",
       "      <td>Europe &amp; Central Asia</td>\n",
       "      <td>36988.622030</td>\n",
       "      <td>77281.0</td>\n",
       "      <td>462.042000</td>\n",
       "      <td>470.0</td>\n",
       "      <td>164.427660</td>\n",
       "    </tr>\n",
       "    <tr>\n",
       "      <th>...</th>\n",
       "      <td>...</td>\n",
       "      <td>...</td>\n",
       "      <td>...</td>\n",
       "      <td>...</td>\n",
       "      <td>...</td>\n",
       "      <td>...</td>\n",
       "      <td>...</td>\n",
       "    </tr>\n",
       "    <tr>\n",
       "      <th>212</th>\n",
       "      <td>Virgin Islands (U.S.)</td>\n",
       "      <td>Latin America &amp; Caribbean</td>\n",
       "      <td>13374.833168</td>\n",
       "      <td>102951.0</td>\n",
       "      <td>165114.116337</td>\n",
       "      <td>350.0</td>\n",
       "      <td>294.145714</td>\n",
       "    </tr>\n",
       "    <tr>\n",
       "      <th>213</th>\n",
       "      <td>West Bank and Gaza</td>\n",
       "      <td>Middle East &amp; North Africa</td>\n",
       "      <td>2943.404534</td>\n",
       "      <td>4551566.0</td>\n",
       "      <td>165114.116337</td>\n",
       "      <td>6020.0</td>\n",
       "      <td>756.074086</td>\n",
       "    </tr>\n",
       "    <tr>\n",
       "      <th>214</th>\n",
       "      <td>Yemen, Rep.</td>\n",
       "      <td>Middle East &amp; North Africa</td>\n",
       "      <td>990.334774</td>\n",
       "      <td>27584213.0</td>\n",
       "      <td>22698.730000</td>\n",
       "      <td>527970.0</td>\n",
       "      <td>52.245796</td>\n",
       "    </tr>\n",
       "    <tr>\n",
       "      <th>215</th>\n",
       "      <td>Zambia</td>\n",
       "      <td>Sub-Saharan Africa</td>\n",
       "      <td>1269.573537</td>\n",
       "      <td>16591390.0</td>\n",
       "      <td>4503.076000</td>\n",
       "      <td>752610.0</td>\n",
       "      <td>22.045136</td>\n",
       "    </tr>\n",
       "    <tr>\n",
       "      <th>216</th>\n",
       "      <td>Zimbabwe</td>\n",
       "      <td>Sub-Saharan Africa</td>\n",
       "      <td>1029.076649</td>\n",
       "      <td>16150362.0</td>\n",
       "      <td>12020.426000</td>\n",
       "      <td>390760.0</td>\n",
       "      <td>41.330643</td>\n",
       "    </tr>\n",
       "  </tbody>\n",
       "</table>\n",
       "<p>217 rows × 7 columns</p>\n",
       "</div>"
      ],
      "text/plain": [
       "              Country Name                      Region  GDP per capita  \\\n",
       "0              Afghanistan                  South Asia      561.778746   \n",
       "1                  Albania       Europe & Central Asia     4124.982390   \n",
       "2                  Algeria  Middle East & North Africa     3916.881571   \n",
       "3           American Samoa         East Asia & Pacific    11834.745230   \n",
       "4                  Andorra       Europe & Central Asia    36988.622030   \n",
       "..                     ...                         ...             ...   \n",
       "212  Virgin Islands (U.S.)   Latin America & Caribbean    13374.833168   \n",
       "213     West Bank and Gaza  Middle East & North Africa     2943.404534   \n",
       "214            Yemen, Rep.  Middle East & North Africa      990.334774   \n",
       "215                 Zambia          Sub-Saharan Africa     1269.573537   \n",
       "216               Zimbabwe          Sub-Saharan Africa     1029.076649   \n",
       "\n",
       "     Population   CO2 emission       Area  Population Density  \n",
       "0    34656032.0    9809.225000   652860.0           53.083405  \n",
       "1     2876101.0    5716.853000    28750.0          100.038296  \n",
       "2    40606052.0  145400.217000  2381740.0           17.048902  \n",
       "3       55599.0  165114.116337      200.0          277.995000  \n",
       "4       77281.0     462.042000      470.0          164.427660  \n",
       "..          ...            ...        ...                 ...  \n",
       "212    102951.0  165114.116337      350.0          294.145714  \n",
       "213   4551566.0  165114.116337     6020.0          756.074086  \n",
       "214  27584213.0   22698.730000   527970.0           52.245796  \n",
       "215  16591390.0    4503.076000   752610.0           22.045136  \n",
       "216  16150362.0   12020.426000   390760.0           41.330643  \n",
       "\n",
       "[217 rows x 7 columns]"
      ]
     },
     "execution_count": 9,
     "metadata": {},
     "output_type": "execute_result"
    }
   ],
   "source": [
    "df['Population Density'] = df.Population / df.Area\n",
    "df"
   ]
  },
  {
   "cell_type": "code",
   "execution_count": 10,
   "id": "ca2a86e1",
   "metadata": {},
   "outputs": [
    {
     "name": "stdout",
     "output_type": "stream",
     "text": [
      "Monaco - країна, яка займає найменшу площу, а саме 2.0 кв км\n"
     ]
    }
   ],
   "source": [
    "print(f\"{df.iloc[df.Area.idxmin()]['Country Name']} - країна, яка займає найменшу площу, а саме {df.iloc[df.Area.idxmin()]['Area']} кв км\")"
   ]
  },
  {
   "cell_type": "code",
   "execution_count": 11,
   "id": "f711f796",
   "metadata": {},
   "outputs": [
    {
     "name": "stdout",
     "output_type": "stream",
     "text": [
      "Luxembourg - країна, яка найбільший ВВП на душу населення, а саме 100738.6842$\n"
     ]
    }
   ],
   "source": [
    "print(f\"{df.iloc[df['GDP per capita'].idxmax()]['Country Name']} - країна, яка найбільший ВВП на душу населення, а саме {df.iloc[df['GDP per capita'].idxmax()]['GDP per capita']}$\")"
   ]
  },
  {
   "cell_type": "code",
   "execution_count": 12,
   "id": "cdfb0c60",
   "metadata": {},
   "outputs": [
    {
     "name": "stdout",
     "output_type": "stream",
     "text": [
      "Середня площа країни найбільша в регіоні North America, а саме - 6605410.00 кв. км.\n"
     ]
    }
   ],
   "source": [
    "mean_area_by_region = df.groupby('Region').Area.mean()\n",
    "largest_mean_area, region_with_largest_mean = mean_area_by_region.max(), mean_area_by_region.idxmax()\n",
    "print(f'Середня площа країни найбільша в регіоні {region_with_largest_mean}, а саме - {largest_mean_area:.2f} кв. км.')"
   ]
  },
  {
   "cell_type": "code",
   "execution_count": 13,
   "id": "b48c146e",
   "metadata": {},
   "outputs": [
    {
     "name": "stdout",
     "output_type": "stream",
     "text": [
      "Країна з найбільшої щільністю населення у світі - Macao SAR, China\n"
     ]
    }
   ],
   "source": [
    "country_with_highest_density = df.loc[df['Population Density'].idxmax(), 'Country Name']\n",
    "print(f\"Країна з найбільшої щільністю населення у світі - {country_with_highest_density}\")"
   ]
  },
  {
   "cell_type": "code",
   "execution_count": 14,
   "id": "05f2aae9",
   "metadata": {},
   "outputs": [
    {
     "name": "stdout",
     "output_type": "stream",
     "text": [
      "Країна з найбільшої щільністю населення в регіоні Europe & Central Asia - Monaco\n"
     ]
    }
   ],
   "source": [
    "df_euca = df[df.Region == 'Europe & Central Asia']\n",
    "country = df_euca.loc[df_euca['Population Density'].idxmax(), 'Country Name']\n",
    "print(f'Країна з найбільшої щільністю населення в регіоні Europe & Central Asia - {country}')"
   ]
  },
  {
   "cell_type": "code",
   "execution_count": 15,
   "id": "6bdea21b",
   "metadata": {},
   "outputs": [
    {
     "name": "stdout",
     "output_type": "stream",
     "text": [
      "==East Asia & Pacific==\n",
      " Середнє: 601314797021.50$, медіана: 11400653732.56$\n",
      "\n",
      "==Europe & Central Asia==\n",
      " Середнє: 349091144622.72$, медіана: 49052249268.26$\n",
      "\n",
      "==Latin America & Caribbean==\n",
      " Середнє: 128573963145.39$, медіана: 13643876718.91$\n",
      "\n",
      "==Middle East & North Africa==\n",
      " Середнє: 161162758088.26$, медіана: 102047824411.43$\n",
      "\n",
      "==North America==\n",
      " Середнє: 6718676588591.59$, медіана: 1530680973899.02$\n",
      "\n",
      "==South Asia==\n",
      " Середнє: 361745128122.77$, медіана: 52017740706.31$\n",
      "\n",
      "==Sub-Saharan Africa==\n",
      " Середнє: 49945863170.16$, медіана: 10981369640.35$\n",
      "\n",
      "Немає регіонів, в яких середнє значення ввп дорівнює медіані!\n"
     ]
    }
   ],
   "source": [
    "df['Total GDP'] = df.Population * df['GDP per capita']\n",
    "grouped_df = df.groupby('Region')['Total GDP'].agg(['mean', 'median'])\n",
    "\n",
    "# проверка, есть ли регион, в котором среднее значение равно медиане\n",
    "equal_mean_median = []\n",
    "for region, row in grouped_df.iterrows():\n",
    "    mean = row['mean']\n",
    "    median = row['median']\n",
    "    print(f\"=={region}==\\n Середнє: {mean:.2f}$, медіана: {median:.2f}$\\n\")\n",
    "    if mean == median:\n",
    "        equal_mean_median.append(region)\n",
    "\n",
    "if len(equal_mean_median) > 0:\n",
    "    print('Регіони, в яких середнє значення ввп дорівнює медіані: ')\n",
    "    print(equal_mean_median)\n",
    "else:\n",
    "    print('Немає регіонів, в яких середнє значення ввп дорівнює медіані!')"
   ]
  },
  {
   "cell_type": "code",
   "execution_count": 16,
   "id": "a25dc7d9",
   "metadata": {},
   "outputs": [
    {
     "name": "stdout",
     "output_type": "stream",
     "text": [
      "Top 5 countries by GDP per capita:\n",
      "          Country Name  GDP per capita\n",
      "115        Luxembourg    100738.68420\n",
      "188       Switzerland     79887.51824\n",
      "116  Macao SAR, China     74017.18471\n",
      "146            Norway     70868.12250\n",
      "92            Ireland     64175.43824 \n",
      "\n",
      "The last 5 countries by GDP per capita:\n",
      "                  Country Name  GDP per capita\n",
      "118                Madagascar      401.742270\n",
      "37   Central African Republic      382.213174\n",
      "134                Mozambique      382.069330\n",
      "119                    Malawi      300.307665\n",
      "31                    Burundi      285.727442\n"
     ]
    }
   ],
   "source": [
    "df['CO2 emission per capita'] = df['CO2 emission'] / df['Population']\n",
    "df_sorted = df.sort_values(['GDP per capita'], ascending=False)\n",
    "print('Top 5 countries by GDP per capita:\\n', df_sorted.head()[['Country Name', 'GDP per capita']],\n",
    "     '\\n\\nThe last 5 countries by GDP per capita:\\n', df_sorted.tail()[['Country Name', 'GDP per capita']])"
   ]
  },
  {
   "cell_type": "code",
   "execution_count": 17,
   "id": "12866cc4",
   "metadata": {},
   "outputs": [
    {
     "name": "stdout",
     "output_type": "stream",
     "text": [
      "Top 5 countries by СО2 emission per capita:\n",
      "                  Country Name  CO2 emission per capita\n",
      "182  St. Martin (French part)                 5.168053\n",
      "163                San Marino                 4.972867\n",
      "130                    Monaco                 4.288790\n",
      "145  Northern Mariana Islands                 3.000820\n",
      "3              American Samoa                 2.969732 \n",
      "\n",
      "The last 5 countries by СО2 emission per capita:\n",
      "          Country Name  CO2 emission per capita\n",
      "44   Congo, Dem. Rep.                 0.000059\n",
      "38               Chad                 0.000050\n",
      "175           Somalia                 0.000043\n",
      "31            Burundi                 0.000042\n",
      "61            Eritrea                 0.000020\n"
     ]
    }
   ],
   "source": [
    "df_sorted = df.sort_values(['CO2 emission per capita'], ascending=False)\n",
    "print('Top 5 countries by СО2 emission per capita:\\n', df_sorted.head()[['Country Name', 'CO2 emission per capita']],\n",
    "     '\\n\\nThe last 5 countries by СО2 emission per capita:\\n', df_sorted.tail()[['Country Name', 'CO2 emission per capita']])"
   ]
  }
 ],
 "metadata": {
  "kernelspec": {
   "display_name": "Python 3 (ipykernel)",
   "language": "python",
   "name": "python3"
  },
  "language_info": {
   "codemirror_mode": {
    "name": "ipython",
    "version": 3
   },
   "file_extension": ".py",
   "mimetype": "text/x-python",
   "name": "python",
   "nbconvert_exporter": "python",
   "pygments_lexer": "ipython3",
   "version": "3.9.13"
  }
 },
 "nbformat": 4,
 "nbformat_minor": 5
}
